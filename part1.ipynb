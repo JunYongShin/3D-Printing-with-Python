{
 "cells": [
  {
   "cell_type": "code",
   "execution_count": 8,
   "id": "4b91b890",
   "metadata": {},
   "outputs": [],
   "source": [
    "import requests\n",
    "from flask import Flask\n",
    "\n",
    "URL = \"http://octopi11.me.washington.edu:5001\"\n",
    "r = requests.get(url=URL)\n",
    "\n"
   ]
  },
  {
   "cell_type": "code",
   "execution_count": 40,
   "id": "e4138fe8",
   "metadata": {},
   "outputs": [],
   "source": [
    "class Stage:\n",
    "    def __init__(self):\n",
    "        #self.pos=pos\n",
    "        #self.bool1=bool1\n",
    "        0\n",
    "    \n",
    "    def move(position):\n",
    "        URL = \"http://octopi11.me.washington.edu:5001\"\n",
    "        data = {'loc': position }\n",
    "        r = requests.put(url=\"http://octopi11.me.washington.edu:5001/motor\", json=data)\n",
    "        print(r.text)\n",
    "        \n",
    "    def pos():\n",
    "        URL = \"http:octopi11.me.washington.edu:5001//\"\n",
    "        \n",
    "        r = requests.get(url=\"http://octopi11.me.washington.edu:5001/motor\")\n",
    "        print(r.text)\n",
    "    \n",
    "    def laser_status():\n",
    "        r= requests.get(url=\"http://octopi11.me.washington.edu:5001/laser\")\n",
    "        print(r.text)\n",
    "        \n",
    "    def set_laser(val):\n",
    "        data = {'power': val }\n",
    "        r = requests.put(url=\"http://octopi11.me.washington.edu:5001/laser\", json=data)\n",
    "        print(r.text)"
   ]
  },
  {
   "cell_type": "code",
   "execution_count": 49,
   "id": "58ae133b",
   "metadata": {},
   "outputs": [
    {
     "name": "stdout",
     "output_type": "stream",
     "text": [
      "{\n",
      "  \"light\": {\n",
      "    \"power\": 0\n",
      "  }\n",
      "}\n",
      "\n",
      "{\n",
      "  \"motor_loc\": {\n",
      "    \"loc\": 400\n",
      "  }\n",
      "}\n",
      "\n"
     ]
    }
   ],
   "source": [
    "Stage.set_laser(0)\n",
    "Stage.move(400)\n"
   ]
  },
  {
   "cell_type": "code",
   "execution_count": 42,
   "id": "3301dce3",
   "metadata": {},
   "outputs": [
    {
     "name": "stdout",
     "output_type": "stream",
     "text": [
      "{\n",
      "  \"light\": {\n",
      "    \"power\": 0\n",
      "  }\n",
      "}\n",
      "\n",
      "{\n",
      "  \"light\": {\n",
      "    \"power\": 0\n",
      "  }\n",
      "}\n",
      "\n"
     ]
    }
   ],
   "source": [
    "\n",
    "#Stage.laser_status()\n"
   ]
  },
  {
   "cell_type": "code",
   "execution_count": null,
   "id": "8e328629",
   "metadata": {},
   "outputs": [],
   "source": []
  }
 ],
 "metadata": {
  "kernelspec": {
   "display_name": "Python 3",
   "language": "python",
   "name": "python3"
  },
  "language_info": {
   "codemirror_mode": {
    "name": "ipython",
    "version": 3
   },
   "file_extension": ".py",
   "mimetype": "text/x-python",
   "name": "python",
   "nbconvert_exporter": "python",
   "pygments_lexer": "ipython3",
   "version": "3.8.8"
  }
 },
 "nbformat": 4,
 "nbformat_minor": 5
}
